{
 "cells": [
  {
   "cell_type": "code",
   "execution_count": null,
   "id": "2d6b7792-8c3e-436a-a8a9-c458265dd3cd",
   "metadata": {},
   "outputs": [],
   "source": [
    "# Student database (dictionary to store student names and their grades)\n",
    "students = {}\n",
    "\n",
    "# Function to add a new student\n",
    "def add_new_student():\n",
    "    name = input(\"Enter the student's name: \").strip()\n",
    "    grades = input(\"Enter the grades of the student (separated by commas): \").strip()\n",
    "    grade_list = [int(grade) for grade in grades.split(',')]\n",
    "    students[name] = grade_list\n",
    "    print(f\"Student {name} with grades {grade_list} has been added!\")\n",
    "\n",
    "# Function to calculate the average grade of each student\n",
    "def calculate_average():\n",
    "    if not students:\n",
    "        print(\"No students in the database!\")\n",
    "        return\n",
    "    for name, grades in students.items():\n",
    "        average_grade = sum(grades) / len(grades)\n",
    "        print(f\"{name} has an average grade of {average_grade:}\")\n",
    "\n",
    "# Function to find the top-performing student\n",
    "def find_top_student():\n",
    "    if not students:\n",
    "        print(\"No students in the database!\")\n",
    "        return\n",
    "    top_student = max(students.items(), key=lambda item: sum(item[1]) / len(item[1]))\n",
    "    name, grades = top_student\n",
    "    average_grade = sum(grades) / len(grades)\n",
    "    print(f\"The top student is {name} with an average grade of {average_grade:}\")\n",
    "\n",
    "# Main_menu\n",
    "while True:\n",
    "    print(\"\\nOptions:\")\n",
    "    print(\"1. Add a new student\")\n",
    "    print(\"2. Calculate average grades\")\n",
    "    print(\"3. Find the top student\")\n",
    "    print(\"4. Exit\")\n",
    "    choice = input(\"Enter your choice: \").strip()\n",
    "\n",
    "    if choice == \"1\":\n",
    "        add_new_student()\n",
    "    elif choice == \"2\":\n",
    "        calculate_average()\n",
    "    elif choice == \"3\":\n",
    "        find_top_student()\n",
    "    elif choice == \"4\":\n",
    "        print(\"Exiting the program. Goodbye!\")\n",
    "        break\n",
    "    else:\n",
    "        print(\"invalid choice please\")"
   ]
  }
 ],
 "metadata": {
  "kernelspec": {
   "display_name": "Python 3 (ipykernel)",
   "language": "python",
   "name": "python3"
  },
  "language_info": {
   "codemirror_mode": {
    "name": "ipython",
    "version": 3
   },
   "file_extension": ".py",
   "mimetype": "text/x-python",
   "name": "python",
   "nbconvert_exporter": "python",
   "pygments_lexer": "ipython3",
   "version": "3.13.2"
  }
 },
 "nbformat": 4,
 "nbformat_minor": 5
}
